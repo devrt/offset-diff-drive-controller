{
 "cells": [
  {
   "cell_type": "markdown",
   "metadata": {},
   "source": [
    "Dynamics of offset diff drive vehicle\n",
    "\n",
    "Equations are from the paper written by Masayoshi Wada etal.\n",
    "\n",
    "https://www.jstage.jst.go.jp/article/jrsj1983/18/8/18_8_1166/_pdf\n",
    "\n",
    "This notebook is written by Yosuke Matsusaka"
   ]
  },
  {
   "cell_type": "markdown",
   "metadata": {},
   "source": [
    "# Preparation\n",
    "\n",
    "We use sympy to transform the equation:"
   ]
  },
  {
   "cell_type": "code",
   "execution_count": 1,
   "metadata": {},
   "outputs": [
    {
     "name": "stdout",
     "output_type": "stream",
     "text": [
      "\u001b[33mDEPRECATION: Python 2.7 reached the end of its life on January 1st, 2020. Please upgrade your Python as Python 2.7 is no longer maintained. pip 21.0 will drop support for Python 2.7 in January 2021. More details about Python 2 support in pip, can be found at https://pip.pypa.io/en/latest/development/release-process/#python-2-support\u001b[0m\n",
      "\u001b[33mWARNING: The directory '/home/developer/.cache/pip' or its parent directory is not owned or is not writable by the current user. The cache has been disabled. Check the permissions and owner of that directory. If executing pip with sudo, you may want sudo's -H flag.\u001b[0m\n",
      "Requirement already up-to-date: sympy in /usr/local/lib/python2.7/dist-packages (1.5.1)\n",
      "Requirement already satisfied, skipping upgrade: mpmath>=0.19 in /usr/local/lib/python2.7/dist-packages (from sympy) (1.1.0)\n"
     ]
    }
   ],
   "source": [
    "!sudo pip install -U sympy"
   ]
  },
  {
   "cell_type": "code",
   "execution_count": 2,
   "metadata": {},
   "outputs": [],
   "source": [
    "from sympy import *"
   ]
  },
  {
   "cell_type": "code",
   "execution_count": 3,
   "metadata": {},
   "outputs": [],
   "source": [
    "init_printing()"
   ]
  },
  {
   "cell_type": "markdown",
   "metadata": {},
   "source": [
    "# Symbols\n",
    "\n",
    "Following symbols are used to describe internal state of the vehicle:"
   ]
  },
  {
   "cell_type": "code",
   "execution_count": 4,
   "metadata": {},
   "outputs": [],
   "source": [
    "(r, s, W, theta) = symbols(r\"r s W \\theta_s\")"
   ]
  },
  {
   "cell_type": "markdown",
   "metadata": {},
   "source": [
    "$r$ : radius of each wheels\n",
    "\n",
    "$W$: wheel separation\n",
    "\n",
    "$s$ : wheel offset\n",
    "\n",
    "$\\theta_s$ : current angle of the steering joint (described later)"
   ]
  },
  {
   "cell_type": "markdown",
   "metadata": {},
   "source": [
    "Joint space parameters:"
   ]
  },
  {
   "cell_type": "code",
   "execution_count": 5,
   "metadata": {},
   "outputs": [],
   "source": [
    "(wr, wl, ws) = symbols('w_r w_l w_s')\n",
    "uv = Matrix([wr, wl, ws])"
   ]
  },
  {
   "cell_type": "markdown",
   "metadata": {},
   "source": [
    "$w_r$ : angular velocity of the right wheel joint\n",
    "\n",
    "$w_l$ : angular velocity of the left wheel joint\n",
    "\n",
    "$w_s$: angular velocity of the steering joint"
   ]
  },
  {
   "cell_type": "markdown",
   "metadata": {},
   "source": [
    "Cartesian space parameters:"
   ]
  },
  {
   "cell_type": "code",
   "execution_count": 6,
   "metadata": {},
   "outputs": [],
   "source": [
    "(vx, vy, vz) = symbols('v_x v_y v_z')\n",
    "xv = Matrix([vx, vy, vz])"
   ]
  },
  {
   "cell_type": "markdown",
   "metadata": {},
   "source": [
    "$v_x$ : x axes velocity\n",
    "\n",
    "$v_y$ : y axes velocity\n",
    "\n",
    "$v_z$ : z axes velocity"
   ]
  },
  {
   "cell_type": "markdown",
   "metadata": {},
   "source": [
    "# Dynamics of diff drive vehicle"
   ]
  },
  {
   "cell_type": "code",
   "execution_count": 7,
   "metadata": {},
   "outputs": [
    {
     "data": {
      "text/latex": [
       "$\\displaystyle \\left[\\begin{matrix}v_{x}\\\\v_{y}\\\\v_{z}\\end{matrix}\\right] = \\left[\\begin{matrix}\\frac{r}{2} & \\frac{r}{2}\\\\0 & 0\\\\\\frac{r}{W} & - \\frac{r}{W}\\end{matrix}\\right] \\left[\\begin{matrix}w_{r}\\\\w_{l}\\end{matrix}\\right]$"
      ],
      "text/plain": [
       "        ⎡r   r ⎤      \n",
       "        ⎢─   ─ ⎥      \n",
       "⎡vₓ ⎤   ⎢2   2 ⎥      \n",
       "⎢   ⎥   ⎢      ⎥ ⎡wᵣ ⎤\n",
       "⎢v_y⎥ = ⎢0   0 ⎥⋅⎢   ⎥\n",
       "⎢   ⎥   ⎢      ⎥ ⎣w_l⎦\n",
       "⎣v_z⎦   ⎢r  -r ⎥      \n",
       "        ⎢─  ───⎥      \n",
       "        ⎣W   W ⎦      "
      ]
     },
     "execution_count": 7,
     "metadata": {},
     "output_type": "execute_result"
    }
   ],
   "source": [
    "diff_drive = Matrix([\n",
    "    [r/2, r/2],\n",
    "    [0, 0],\n",
    "    [r/W, -r/W]\n",
    "])\n",
    "Eq(xv, MatMul(diff_drive, Matrix(uv[0:2]), evaluate=False), evaluate=False)"
   ]
  },
  {
   "cell_type": "markdown",
   "metadata": {},
   "source": [
    "x axes velocity is generated from the combination of left and right wheel velocities.\n",
    "\n",
    "z axes velocity is generated from the difference of left and right wheel velocities.\n",
    "\n",
    "We can natually understand that we cannot directly obtain y axes velocity from the mechanism."
   ]
  },
  {
   "cell_type": "markdown",
   "metadata": {},
   "source": [
    "# Dynamics of offset diff drive vehicle\n",
    "\n",
    "Here, we apply offset to the diff drive vehicle described above.\n",
    "\n",
    "We first, create offset transformation matrix:"
   ]
  },
  {
   "cell_type": "code",
   "execution_count": 8,
   "metadata": {},
   "outputs": [
    {
     "data": {
      "text/latex": [
       "$\\displaystyle \\left[\\begin{matrix}1 & 0 & 0\\\\0 & 1 & s\\\\0 & 0 & 1\\end{matrix}\\right]$"
      ],
      "text/plain": [
       "⎡1  0  0⎤\n",
       "⎢       ⎥\n",
       "⎢0  1  s⎥\n",
       "⎢       ⎥\n",
       "⎣0  0  1⎦"
      ]
     },
     "execution_count": 8,
     "metadata": {},
     "output_type": "execute_result"
    }
   ],
   "source": [
    "offset = Matrix([\n",
    "    [1, 0, 0],\n",
    "    [0, 1, s],\n",
    "    [0, 0, 1]\n",
    "])\n",
    "offset"
   ]
  },
  {
   "cell_type": "markdown",
   "metadata": {},
   "source": [
    "Apply offset to the jacobian matrix:"
   ]
  },
  {
   "cell_type": "code",
   "execution_count": 9,
   "metadata": {},
   "outputs": [
    {
     "data": {
      "text/latex": [
       "$\\displaystyle \\left[\\begin{matrix}\\frac{r}{2} & \\frac{r}{2}\\\\\\frac{r s}{W} & - \\frac{r s}{W}\\\\\\frac{r}{W} & - \\frac{r}{W}\\end{matrix}\\right] = \\left[\\begin{matrix}1 & 0 & 0\\\\0 & 1 & s\\\\0 & 0 & 1\\end{matrix}\\right] \\left[\\begin{matrix}\\frac{r}{2} & \\frac{r}{2}\\\\0 & 0\\\\\\frac{r}{W} & - \\frac{r}{W}\\end{matrix}\\right]$"
      ],
      "text/plain": [
       "⎡ r     r  ⎤                     \n",
       "⎢ ─     ─  ⎥             ⎡r   r ⎤\n",
       "⎢ 2     2  ⎥             ⎢─   ─ ⎥\n",
       "⎢          ⎥   ⎡1  0  0⎤ ⎢2   2 ⎥\n",
       "⎢r⋅s  -r⋅s ⎥   ⎢       ⎥ ⎢      ⎥\n",
       "⎢───  ─────⎥ = ⎢0  1  s⎥⋅⎢0   0 ⎥\n",
       "⎢ W     W  ⎥   ⎢       ⎥ ⎢      ⎥\n",
       "⎢          ⎥   ⎣0  0  1⎦ ⎢r  -r ⎥\n",
       "⎢ r    -r  ⎥             ⎢─  ───⎥\n",
       "⎢ ─    ─── ⎥             ⎣W   W ⎦\n",
       "⎣ W     W  ⎦                     "
      ]
     },
     "execution_count": 9,
     "metadata": {},
     "output_type": "execute_result"
    }
   ],
   "source": [
    "offset_diff_drive = offset * diff_drive\n",
    "Eq(offset_diff_drive, MatMul(offset, diff_drive, evaluate=False), evaluate=False)"
   ]
  },
  {
   "cell_type": "markdown",
   "metadata": {},
   "source": [
    "Now, the equation will be as below:"
   ]
  },
  {
   "cell_type": "code",
   "execution_count": 10,
   "metadata": {},
   "outputs": [
    {
     "data": {
      "text/latex": [
       "$\\displaystyle \\left[\\begin{matrix}v_{x}\\\\v_{y}\\\\v_{z}\\end{matrix}\\right] = \\left[\\begin{matrix}\\frac{r}{2} & \\frac{r}{2}\\\\\\frac{r s}{W} & - \\frac{r s}{W}\\\\\\frac{r}{W} & - \\frac{r}{W}\\end{matrix}\\right] \\left[\\begin{matrix}w_{r}\\\\w_{l}\\end{matrix}\\right]$"
      ],
      "text/plain": [
       "        ⎡ r     r  ⎤      \n",
       "        ⎢ ─     ─  ⎥      \n",
       "        ⎢ 2     2  ⎥      \n",
       "⎡vₓ ⎤   ⎢          ⎥      \n",
       "⎢   ⎥   ⎢r⋅s  -r⋅s ⎥ ⎡wᵣ ⎤\n",
       "⎢v_y⎥ = ⎢───  ─────⎥⋅⎢   ⎥\n",
       "⎢   ⎥   ⎢ W     W  ⎥ ⎣w_l⎦\n",
       "⎣v_z⎦   ⎢          ⎥      \n",
       "        ⎢ r    -r  ⎥      \n",
       "        ⎢ ─    ─── ⎥      \n",
       "        ⎣ W     W  ⎦      "
      ]
     },
     "execution_count": 10,
     "metadata": {},
     "output_type": "execute_result"
    }
   ],
   "source": [
    "Eq(xv, MatMul(offset_diff_drive, Matrix(uv[0:2]), evaluate=False), evaluate=False)"
   ]
  },
  {
   "cell_type": "markdown",
   "metadata": {},
   "source": [
    "What is interesting here, is we get y axes velocity by just adding the offset!\n",
    "\n",
    "By calculating the inverse matrix, we can realize omnidirectional movement from this mechanism:"
   ]
  },
  {
   "cell_type": "code",
   "execution_count": 11,
   "metadata": {},
   "outputs": [
    {
     "data": {
      "text/latex": [
       "$\\displaystyle \\left[\\begin{matrix}w_{r}\\\\w_{l}\\end{matrix}\\right] = \\left[\\begin{matrix}\\frac{1}{r} & \\frac{W}{2 r s}\\\\\\frac{1}{r} & - \\frac{W}{2 r s}\\end{matrix}\\right] \\left[\\begin{matrix}v_{x}\\\\v_{y}\\end{matrix}\\right]$"
      ],
      "text/plain": [
       "        ⎡1    W  ⎤      \n",
       "        ⎢─  ─────⎥      \n",
       "⎡wᵣ ⎤   ⎢r  2⋅r⋅s⎥ ⎡vₓ ⎤\n",
       "⎢   ⎥ = ⎢        ⎥⋅⎢   ⎥\n",
       "⎣w_l⎦   ⎢1   -W  ⎥ ⎣v_y⎦\n",
       "        ⎢─  ─────⎥      \n",
       "        ⎣r  2⋅r⋅s⎦      "
      ]
     },
     "execution_count": 11,
     "metadata": {},
     "output_type": "execute_result"
    }
   ],
   "source": [
    "inv_offset_diff_drive = Matrix(offset_diff_drive[0:2, :]).inv()\n",
    "Eq(Matrix(uv[0:2]), MatMul(inv_offset_diff_drive, Matrix(xv[0:2]), evaluate=False), evaluate=False)"
   ]
  },
  {
   "cell_type": "markdown",
   "metadata": {},
   "source": [
    "Unfortunately z axes velocity is defined by holonomic constraints and not controllable by us. But we will add a steering joint to our vehicle to realize complete omnidirectional movement."
   ]
  },
  {
   "cell_type": "markdown",
   "metadata": {},
   "source": [
    "# Dynamics of offset diff drive vehicle with a steering joint\n",
    "\n",
    "Here, we will add a steering joint to our vehicle to get controllable z axes velocity:"
   ]
  },
  {
   "cell_type": "code",
   "execution_count": 12,
   "metadata": {},
   "outputs": [
    {
     "data": {
      "text/latex": [
       "$\\displaystyle \\left[\\begin{matrix}\\cos{\\left(\\theta_s \\right)} & - \\sin{\\left(\\theta_s \\right)} & 0\\\\\\sin{\\left(\\theta_s \\right)} & \\cos{\\left(\\theta_s \\right)} & 0\\\\0 & 0 & 1\\end{matrix}\\right]$"
      ],
      "text/plain": [
       "⎡cos(\\theta_s)  -sin(\\theta_s)  0⎤\n",
       "⎢                                ⎥\n",
       "⎢sin(\\theta_s)  cos(\\theta_s)   0⎥\n",
       "⎢                                ⎥\n",
       "⎣      0              0         1⎦"
      ]
     },
     "execution_count": 12,
     "metadata": {},
     "output_type": "execute_result"
    }
   ],
   "source": [
    "rotate = Matrix([\n",
    "    [cos(theta), -sin(theta), 0],\n",
    "    [sin(theta), cos(theta), 0],\n",
    "    [0, 0, 1]\n",
    "])\n",
    "rotate"
   ]
  },
  {
   "cell_type": "markdown",
   "metadata": {},
   "source": [
    "By applying the rotation, jacobian matrix will be as follows:"
   ]
  },
  {
   "cell_type": "code",
   "execution_count": 13,
   "metadata": {},
   "outputs": [
    {
     "data": {
      "text/latex": [
       "$\\displaystyle \\left[\\begin{matrix}\\frac{r \\cos{\\left(\\theta_s \\right)}}{2} - \\frac{r s \\sin{\\left(\\theta_s \\right)}}{W} & \\frac{r \\cos{\\left(\\theta_s \\right)}}{2} + \\frac{r s \\sin{\\left(\\theta_s \\right)}}{W}\\\\\\frac{r \\sin{\\left(\\theta_s \\right)}}{2} + \\frac{r s \\cos{\\left(\\theta_s \\right)}}{W} & \\frac{r \\sin{\\left(\\theta_s \\right)}}{2} - \\frac{r s \\cos{\\left(\\theta_s \\right)}}{W}\\\\\\frac{r}{W} & - \\frac{r}{W}\\end{matrix}\\right] = \\left[\\begin{matrix}\\cos{\\left(\\theta_s \\right)} & - \\sin{\\left(\\theta_s \\right)} & 0\\\\\\sin{\\left(\\theta_s \\right)} & \\cos{\\left(\\theta_s \\right)} & 0\\\\0 & 0 & 1\\end{matrix}\\right] \\left[\\begin{matrix}\\frac{r}{2} & \\frac{r}{2}\\\\\\frac{r s}{W} & - \\frac{r s}{W}\\\\\\frac{r}{W} & - \\frac{r}{W}\\end{matrix}\\right]$"
      ],
      "text/plain": [
       "⎡r⋅cos(\\theta_s)   r⋅s⋅sin(\\theta_s)  r⋅cos(\\theta_s)   r⋅s⋅sin(\\theta_s)⎤    \n",
       "⎢─────────────── - ─────────────────  ─────────────── + ─────────────────⎥    \n",
       "⎢       2                  W                 2                  W        ⎥    \n",
       "⎢                                                                        ⎥   ⎡\n",
       "⎢r⋅sin(\\theta_s)   r⋅s⋅cos(\\theta_s)  r⋅sin(\\theta_s)   r⋅s⋅cos(\\theta_s)⎥   ⎢\n",
       "⎢─────────────── + ─────────────────  ─────────────── - ─────────────────⎥ = ⎢\n",
       "⎢       2                  W                 2                  W        ⎥   ⎢\n",
       "⎢                                                                        ⎥   ⎣\n",
       "⎢                 r                                   -r                 ⎥    \n",
       "⎢                 ─                                   ───                ⎥    \n",
       "⎣                 W                                    W                 ⎦    \n",
       "\n",
       "                                  ⎡ r     r  ⎤\n",
       "                                  ⎢ ─     ─  ⎥\n",
       "                                  ⎢ 2     2  ⎥\n",
       "cos(\\theta_s)  -sin(\\theta_s)  0⎤ ⎢          ⎥\n",
       "                                ⎥ ⎢r⋅s  -r⋅s ⎥\n",
       "sin(\\theta_s)  cos(\\theta_s)   0⎥⋅⎢───  ─────⎥\n",
       "                                ⎥ ⎢ W     W  ⎥\n",
       "      0              0         1⎦ ⎢          ⎥\n",
       "                                  ⎢ r    -r  ⎥\n",
       "                                  ⎢ ─    ─── ⎥\n",
       "                                  ⎣ W     W  ⎦"
      ]
     },
     "execution_count": 13,
     "metadata": {},
     "output_type": "execute_result"
    }
   ],
   "source": [
    "abs_offset_diff_drive = rotate * offset_diff_drive\n",
    "Eq(abs_offset_diff_drive, MatMul(rotate, offset_diff_drive, evaluate=False), evaluate=False)"
   ]
  },
  {
   "cell_type": "markdown",
   "metadata": {},
   "source": [
    "Final jacobian matrix is as follows:"
   ]
  },
  {
   "cell_type": "code",
   "execution_count": 14,
   "metadata": {},
   "outputs": [
    {
     "data": {
      "text/latex": [
       "$\\displaystyle \\left[\\begin{matrix}v_{x}\\\\v_{y}\\\\v_{z}\\end{matrix}\\right] = \\left[\\begin{matrix}\\frac{r \\cos{\\left(\\theta_s \\right)}}{2} - \\frac{r s \\sin{\\left(\\theta_s \\right)}}{W} & \\frac{r \\cos{\\left(\\theta_s \\right)}}{2} + \\frac{r s \\sin{\\left(\\theta_s \\right)}}{W} & 0\\\\\\frac{r \\sin{\\left(\\theta_s \\right)}}{2} + \\frac{r s \\cos{\\left(\\theta_s \\right)}}{W} & \\frac{r \\sin{\\left(\\theta_s \\right)}}{2} - \\frac{r s \\cos{\\left(\\theta_s \\right)}}{W} & 0\\\\\\frac{r}{W} & - \\frac{r}{W} & -1\\end{matrix}\\right] \\left[\\begin{matrix}w_{r}\\\\w_{l}\\\\w_{s}\\end{matrix}\\right]$"
      ],
      "text/plain": [
       "        ⎡r⋅cos(\\theta_s)   r⋅s⋅sin(\\theta_s)  r⋅cos(\\theta_s)   r⋅s⋅sin(\\theta\n",
       "        ⎢─────────────── - ─────────────────  ─────────────── + ──────────────\n",
       "        ⎢       2                  W                 2                  W     \n",
       "⎡vₓ ⎤   ⎢                                                                     \n",
       "⎢   ⎥   ⎢r⋅sin(\\theta_s)   r⋅s⋅cos(\\theta_s)  r⋅sin(\\theta_s)   r⋅s⋅cos(\\theta\n",
       "⎢v_y⎥ = ⎢─────────────── + ─────────────────  ─────────────── - ──────────────\n",
       "⎢   ⎥   ⎢       2                  W                 2                  W     \n",
       "⎣v_z⎦   ⎢                                                                     \n",
       "        ⎢                 r                                   -r              \n",
       "        ⎢                 ─                                   ───             \n",
       "        ⎣                 W                                    W              \n",
       "\n",
       "_s)    ⎤      \n",
       "───  0 ⎥      \n",
       "       ⎥      \n",
       "       ⎥ ⎡wᵣ ⎤\n",
       "_s)    ⎥ ⎢   ⎥\n",
       "───  0 ⎥⋅⎢w_l⎥\n",
       "       ⎥ ⎢   ⎥\n",
       "       ⎥ ⎣w_s⎦\n",
       "       ⎥      \n",
       "     -1⎥      \n",
       "       ⎦      "
      ]
     },
     "execution_count": 14,
     "metadata": {},
     "output_type": "execute_result"
    }
   ],
   "source": [
    "fwd_dynamics = BlockMatrix([abs_offset_diff_drive, Matrix([0, 0, -1])]).as_explicit()\n",
    "Eq(xv,MatMul(fwd_dynamics, uv, evaluate=False), evaluate=False)"
   ]
  },
  {
   "cell_type": "markdown",
   "metadata": {},
   "source": [
    "Inverse jacobian matrix will let us know how to calculate each joint velocity to realize omnidirectional movement:"
   ]
  },
  {
   "cell_type": "code",
   "execution_count": 15,
   "metadata": {},
   "outputs": [
    {
     "data": {
      "text/latex": [
       "$\\displaystyle \\left[\\begin{matrix}w_{r}\\\\w_{l}\\\\w_{s}\\end{matrix}\\right] = \\left[\\begin{matrix}\\frac{- \\frac{W \\sin{\\left(\\theta_s \\right)}}{2} + s \\cos{\\left(\\theta_s \\right)}}{r s} & \\frac{\\frac{W \\cos{\\left(\\theta_s \\right)}}{2} + s \\sin{\\left(\\theta_s \\right)}}{r s} & 0\\\\\\frac{\\frac{W \\sin{\\left(\\theta_s \\right)}}{2} + s \\cos{\\left(\\theta_s \\right)}}{r s} & \\frac{- \\frac{W \\cos{\\left(\\theta_s \\right)}}{2} + s \\sin{\\left(\\theta_s \\right)}}{r s} & 0\\\\- \\frac{\\sin{\\left(\\theta_s \\right)}}{s} & \\frac{\\cos{\\left(\\theta_s \\right)}}{s} & -1\\end{matrix}\\right] \\left[\\begin{matrix}v_{x}\\\\v_{y}\\\\v_{z}\\end{matrix}\\right]$"
      ],
      "text/plain": [
       "        ⎡  W⋅sin(\\theta_s)                     W⋅cos(\\theta_s)                \n",
       "        ⎢- ─────────────── + s⋅cos(\\theta_s)   ─────────────── + s⋅sin(\\theta_\n",
       "        ⎢         2                                   2                       \n",
       "        ⎢───────────────────────────────────   ───────────────────────────────\n",
       "        ⎢                r⋅s                                  r⋅s             \n",
       "⎡wᵣ ⎤   ⎢                                                                     \n",
       "⎢   ⎥   ⎢ W⋅sin(\\theta_s)                       W⋅cos(\\theta_s)               \n",
       "⎢w_l⎥ = ⎢ ─────────────── + s⋅cos(\\theta_s)   - ─────────────── + s⋅sin(\\theta\n",
       "⎢   ⎥   ⎢        2                                     2                      \n",
       "⎣w_s⎦   ⎢ ─────────────────────────────────   ────────────────────────────────\n",
       "        ⎢                r⋅s                                  r⋅s             \n",
       "        ⎢                                                                     \n",
       "        ⎢          -sin(\\theta_s)                        cos(\\theta_s)        \n",
       "        ⎢          ───────────────                       ─────────────        \n",
       "        ⎣                 s                                    s              \n",
       "\n",
       "       ⎤      \n",
       "s)     ⎥      \n",
       "       ⎥      \n",
       "──   0 ⎥      \n",
       "       ⎥      \n",
       "       ⎥ ⎡vₓ ⎤\n",
       "       ⎥ ⎢   ⎥\n",
       "_s)    ⎥⋅⎢v_y⎥\n",
       "       ⎥ ⎢   ⎥\n",
       "───  0 ⎥ ⎣v_z⎦\n",
       "       ⎥      \n",
       "       ⎥      \n",
       "       ⎥      \n",
       "     -1⎥      \n",
       "       ⎦      "
      ]
     },
     "execution_count": 15,
     "metadata": {},
     "output_type": "execute_result"
    }
   ],
   "source": [
    "inv_dynamics = fwd_dynamics.inv().simplify()\n",
    "Eq(uv, MatMul(inv_dynamics, xv, evaluate=False), evaluate=False)"
   ]
  },
  {
   "cell_type": "code",
   "execution_count": null,
   "metadata": {},
   "outputs": [],
   "source": []
  }
 ],
 "metadata": {
  "kernelspec": {
   "display_name": "Python 2",
   "language": "python",
   "name": "python2"
  },
  "language_info": {
   "codemirror_mode": {
    "name": "ipython",
    "version": 2
   },
   "file_extension": ".py",
   "mimetype": "text/x-python",
   "name": "python",
   "nbconvert_exporter": "python",
   "pygments_lexer": "ipython2",
   "version": "2.7.17"
  },
  "toc": {
   "base_numbering": 1,
   "nav_menu": {},
   "number_sections": true,
   "sideBar": true,
   "skip_h1_title": false,
   "title_cell": "Table of Contents",
   "title_sidebar": "Contents",
   "toc_cell": false,
   "toc_position": {},
   "toc_section_display": true,
   "toc_window_display": false
  }
 },
 "nbformat": 4,
 "nbformat_minor": 2
}
